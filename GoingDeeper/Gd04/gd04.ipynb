{
 "cells": [
  {
   "cell_type": "markdown",
   "id": "1ee211c2",
   "metadata": {},
   "source": [
    "# Step 0. 필요한 라이브러리 import"
   ]
  },
  {
   "cell_type": "code",
   "execution_count": 1,
   "id": "ec59740c",
   "metadata": {},
   "outputs": [],
   "source": [
    "import tensorflow as tf\n",
    "import numpy as np\n",
    "import pandas as pd\n",
    "\n",
    "from sklearn.model_selection import train_test_split\n",
    "\n",
    "import matplotlib.ticker as ticker\n",
    "import matplotlib.pyplot as plt\n",
    "import matplotlib as mpl\n",
    "import matplotlib.font_manager as fm\n",
    "\n",
    "import time\n",
    "import re\n",
    "import os\n",
    "import io\n",
    "\n",
    "from tqdm import tqdm    # tqdm\n",
    "import random\n",
    "\n",
    "from konlpy.tag import Mecab\n",
    "mecab = Mecab()"
   ]
  },
  {
   "cell_type": "markdown",
   "id": "fca169f1",
   "metadata": {},
   "source": [
    "# Step 1. 데이터 다운"
   ]
  },
  {
   "cell_type": "markdown",
   "id": "db3c82e3",
   "metadata": {},
   "source": [
    "[jungyeul/korean-parallel-corpora](https://github.com/jungyeul/korean-parallel-corpora/tree/master/korean-english-news-v1)에서 korean-english-park.train.tar.gz 다운후 사용"
   ]
  },
  {
   "cell_type": "code",
   "execution_count": 2,
   "id": "2266534b",
   "metadata": {},
   "outputs": [],
   "source": [
    "with open(\"korean-english-park.train.ko.txt\", \"r\") as f:\n",
    "    kor = f.read().splitlines()\n",
    "with open(\"korean-english-park.train.en.txt\", \"r\") as f:\n",
    "    eng = f.read().splitlines()"
   ]
  },
  {
   "cell_type": "code",
   "execution_count": 3,
   "id": "d03c9802",
   "metadata": {
    "scrolled": true
   },
   "outputs": [
    {
     "name": "stdout",
     "output_type": "stream",
     "text": [
      "개인용 컴퓨터 사용의 상당 부분은 \"이것보다 뛰어날 수 있느냐?\"\n",
      "Much of personal computing is about \"can you top this?\"\n"
     ]
    }
   ],
   "source": [
    "# 데이터셋 확인\n",
    "print(kor[0])\n",
    "print(eng[0])"
   ]
  },
  {
   "cell_type": "markdown",
   "id": "df55a276",
   "metadata": {},
   "source": [
    "데이터프레임을 사용해 한-영 병렬 데이터로 변경"
   ]
  },
  {
   "cell_type": "code",
   "execution_count": 4,
   "id": "4b6a1b0f",
   "metadata": {},
   "outputs": [
    {
     "data": {
      "text/html": [
       "<div>\n",
       "<style scoped>\n",
       "    .dataframe tbody tr th:only-of-type {\n",
       "        vertical-align: middle;\n",
       "    }\n",
       "\n",
       "    .dataframe tbody tr th {\n",
       "        vertical-align: top;\n",
       "    }\n",
       "\n",
       "    .dataframe thead th {\n",
       "        text-align: right;\n",
       "    }\n",
       "</style>\n",
       "<table border=\"1\" class=\"dataframe\">\n",
       "  <thead>\n",
       "    <tr style=\"text-align: right;\">\n",
       "      <th></th>\n",
       "      <th>kor</th>\n",
       "      <th>eng</th>\n",
       "    </tr>\n",
       "  </thead>\n",
       "  <tbody>\n",
       "    <tr>\n",
       "      <th>0</th>\n",
       "      <td>개인용 컴퓨터 사용의 상당 부분은 \"이것보다 뛰어날 수 있느냐?\"</td>\n",
       "      <td>Much of personal computing is about \"can you t...</td>\n",
       "    </tr>\n",
       "    <tr>\n",
       "      <th>1</th>\n",
       "      <td>모든 광마우스와 마찬가지 로 이 광마우스도 책상 위에 놓는 마우스 패드를 필요로 하...</td>\n",
       "      <td>so a mention a few weeks ago about a rechargea...</td>\n",
       "    </tr>\n",
       "    <tr>\n",
       "      <th>2</th>\n",
       "      <td>그러나 이것은 또한 책상도 필요로 하지 않는다.</td>\n",
       "      <td>Like all optical mice, But it also doesn't nee...</td>\n",
       "    </tr>\n",
       "    <tr>\n",
       "      <th>3</th>\n",
       "      <td>79.95달러하는 이 최첨단 무선 광마우스는 허공에서 팔목, 팔, 그외에 어떤 부분...</td>\n",
       "      <td>uses gyroscopic sensors to control the cursor ...</td>\n",
       "    </tr>\n",
       "    <tr>\n",
       "      <th>4</th>\n",
       "      <td>정보 관리들은 동남 아시아에서의 선박들에 대한 많은 (테러) 계획들이 실패로 돌아갔...</td>\n",
       "      <td>Intelligence officials have revealed a spate o...</td>\n",
       "    </tr>\n",
       "    <tr>\n",
       "      <th>...</th>\n",
       "      <td>...</td>\n",
       "      <td>...</td>\n",
       "    </tr>\n",
       "    <tr>\n",
       "      <th>94118</th>\n",
       "      <td>“우리는 3월 8일 김승연 회장과 그의 아들이 보복폭행에 가담한 혐의를 찾기 위해 ...</td>\n",
       "      <td>””We are hoping to seize material evidence to ...</td>\n",
       "    </tr>\n",
       "    <tr>\n",
       "      <th>94119</th>\n",
       "      <td>월요일 술집 종업원 6명은 김회장과 아들에게 폭행을 당했음을 진술했다고 경찰은 말했다.</td>\n",
       "      <td>” On Monday, police secured statements from si...</td>\n",
       "    </tr>\n",
       "    <tr>\n",
       "      <th>94120</th>\n",
       "      <td>그러나 불충분한 증거 확보로 수사에 어려움이 있다.</td>\n",
       "      <td>But the lack of material evidence is making it...</td>\n",
       "    </tr>\n",
       "    <tr>\n",
       "      <th>94121</th>\n",
       "      <td>김회장과 그의 아들은 보복폭행 혐의를 강력히 부인하고 있다.</td>\n",
       "      <td>Kim and his son both deny the allegations.</td>\n",
       "    </tr>\n",
       "    <tr>\n",
       "      <th>94122</th>\n",
       "      <td>경찰은 김회장의 집무실에서 추가 증거를 찾은 이후 가능한 한 오늘 김회장과 아들을 ...</td>\n",
       "      <td>Police are planning to seek arrest warrants fo...</td>\n",
       "    </tr>\n",
       "  </tbody>\n",
       "</table>\n",
       "<p>94123 rows × 2 columns</p>\n",
       "</div>"
      ],
      "text/plain": [
       "                                                     kor  \\\n",
       "0                   개인용 컴퓨터 사용의 상당 부분은 \"이것보다 뛰어날 수 있느냐?\"   \n",
       "1      모든 광마우스와 마찬가지 로 이 광마우스도 책상 위에 놓는 마우스 패드를 필요로 하...   \n",
       "2                             그러나 이것은 또한 책상도 필요로 하지 않는다.   \n",
       "3      79.95달러하는 이 최첨단 무선 광마우스는 허공에서 팔목, 팔, 그외에 어떤 부분...   \n",
       "4      정보 관리들은 동남 아시아에서의 선박들에 대한 많은 (테러) 계획들이 실패로 돌아갔...   \n",
       "...                                                  ...   \n",
       "94118  “우리는 3월 8일 김승연 회장과 그의 아들이 보복폭행에 가담한 혐의를 찾기 위해 ...   \n",
       "94119   월요일 술집 종업원 6명은 김회장과 아들에게 폭행을 당했음을 진술했다고 경찰은 말했다.   \n",
       "94120                       그러나 불충분한 증거 확보로 수사에 어려움이 있다.   \n",
       "94121                  김회장과 그의 아들은 보복폭행 혐의를 강력히 부인하고 있다.   \n",
       "94122  경찰은 김회장의 집무실에서 추가 증거를 찾은 이후 가능한 한 오늘 김회장과 아들을 ...   \n",
       "\n",
       "                                                     eng  \n",
       "0      Much of personal computing is about \"can you t...  \n",
       "1      so a mention a few weeks ago about a rechargea...  \n",
       "2      Like all optical mice, But it also doesn't nee...  \n",
       "3      uses gyroscopic sensors to control the cursor ...  \n",
       "4      Intelligence officials have revealed a spate o...  \n",
       "...                                                  ...  \n",
       "94118  ””We are hoping to seize material evidence to ...  \n",
       "94119  ” On Monday, police secured statements from si...  \n",
       "94120  But the lack of material evidence is making it...  \n",
       "94121         Kim and his son both deny the allegations.  \n",
       "94122  Police are planning to seek arrest warrants fo...  \n",
       "\n",
       "[94123 rows x 2 columns]"
      ]
     },
     "execution_count": 4,
     "metadata": {},
     "output_type": "execute_result"
    }
   ],
   "source": [
    "data = pd.DataFrame()\n",
    "data['kor'] = kor\n",
    "data['eng'] = eng\n",
    "\n",
    "data"
   ]
  },
  {
   "cell_type": "markdown",
   "id": "c761f42f",
   "metadata": {},
   "source": [
    "# Step 2. 데이터 정제"
   ]
  },
  {
   "cell_type": "markdown",
   "id": "24ab1c9c",
   "metadata": {},
   "source": [
    "1. 중복 제거"
   ]
  },
  {
   "cell_type": "code",
   "execution_count": 5,
   "id": "d1810ece",
   "metadata": {},
   "outputs": [
    {
     "data": {
      "text/plain": [
       "16532"
      ]
     },
     "execution_count": 5,
     "metadata": {},
     "output_type": "execute_result"
    }
   ],
   "source": [
    "data.duplicated('kor').sum()"
   ]
  },
  {
   "cell_type": "code",
   "execution_count": 6,
   "id": "c6571a32",
   "metadata": {},
   "outputs": [
    {
     "data": {
      "text/plain": [
       "18525"
      ]
     },
     "execution_count": 6,
     "metadata": {},
     "output_type": "execute_result"
    }
   ],
   "source": [
    "data.duplicated('eng').sum()"
   ]
  },
  {
   "cell_type": "code",
   "execution_count": 7,
   "id": "5ad3a369",
   "metadata": {
    "scrolled": false
   },
   "outputs": [],
   "source": [
    "data.drop_duplicates('kor', inplace=True)"
   ]
  },
  {
   "cell_type": "code",
   "execution_count": 8,
   "id": "7b1eb1f4",
   "metadata": {
    "scrolled": false
   },
   "outputs": [],
   "source": [
    "data.drop_duplicates('eng', inplace=True)"
   ]
  },
  {
   "cell_type": "code",
   "execution_count": 9,
   "id": "bf4cd1df",
   "metadata": {},
   "outputs": [
    {
     "data": {
      "text/plain": [
       "0"
      ]
     },
     "execution_count": 9,
     "metadata": {},
     "output_type": "execute_result"
    }
   ],
   "source": [
    "data.duplicated('kor').sum()"
   ]
  },
  {
   "cell_type": "code",
   "execution_count": 10,
   "id": "47a4eb90",
   "metadata": {
    "scrolled": true
   },
   "outputs": [
    {
     "data": {
      "text/plain": [
       "0"
      ]
     },
     "execution_count": 10,
     "metadata": {},
     "output_type": "execute_result"
    }
   ],
   "source": [
    "data.duplicated('eng').sum()"
   ]
  },
  {
   "cell_type": "code",
   "execution_count": 11,
   "id": "2d6d5041",
   "metadata": {},
   "outputs": [
    {
     "data": {
      "text/html": [
       "<div>\n",
       "<style scoped>\n",
       "    .dataframe tbody tr th:only-of-type {\n",
       "        vertical-align: middle;\n",
       "    }\n",
       "\n",
       "    .dataframe tbody tr th {\n",
       "        vertical-align: top;\n",
       "    }\n",
       "\n",
       "    .dataframe thead th {\n",
       "        text-align: right;\n",
       "    }\n",
       "</style>\n",
       "<table border=\"1\" class=\"dataframe\">\n",
       "  <thead>\n",
       "    <tr style=\"text-align: right;\">\n",
       "      <th></th>\n",
       "      <th>kor</th>\n",
       "      <th>eng</th>\n",
       "    </tr>\n",
       "  </thead>\n",
       "  <tbody>\n",
       "    <tr>\n",
       "      <th>0</th>\n",
       "      <td>개인용 컴퓨터 사용의 상당 부분은 \"이것보다 뛰어날 수 있느냐?\"</td>\n",
       "      <td>Much of personal computing is about \"can you t...</td>\n",
       "    </tr>\n",
       "    <tr>\n",
       "      <th>1</th>\n",
       "      <td>모든 광마우스와 마찬가지 로 이 광마우스도 책상 위에 놓는 마우스 패드를 필요로 하...</td>\n",
       "      <td>so a mention a few weeks ago about a rechargea...</td>\n",
       "    </tr>\n",
       "    <tr>\n",
       "      <th>2</th>\n",
       "      <td>그러나 이것은 또한 책상도 필요로 하지 않는다.</td>\n",
       "      <td>Like all optical mice, But it also doesn't nee...</td>\n",
       "    </tr>\n",
       "    <tr>\n",
       "      <th>3</th>\n",
       "      <td>79.95달러하는 이 최첨단 무선 광마우스는 허공에서 팔목, 팔, 그외에 어떤 부분...</td>\n",
       "      <td>uses gyroscopic sensors to control the cursor ...</td>\n",
       "    </tr>\n",
       "    <tr>\n",
       "      <th>4</th>\n",
       "      <td>정보 관리들은 동남 아시아에서의 선박들에 대한 많은 (테러) 계획들이 실패로 돌아갔...</td>\n",
       "      <td>Intelligence officials have revealed a spate o...</td>\n",
       "    </tr>\n",
       "    <tr>\n",
       "      <th>...</th>\n",
       "      <td>...</td>\n",
       "      <td>...</td>\n",
       "    </tr>\n",
       "    <tr>\n",
       "      <th>74844</th>\n",
       "      <td>“우리는 3월 8일 김승연 회장과 그의 아들이 보복폭행에 가담한 혐의를 찾기 위해 ...</td>\n",
       "      <td>””We are hoping to seize material evidence to ...</td>\n",
       "    </tr>\n",
       "    <tr>\n",
       "      <th>74845</th>\n",
       "      <td>월요일 술집 종업원 6명은 김회장과 아들에게 폭행을 당했음을 진술했다고 경찰은 말했다.</td>\n",
       "      <td>” On Monday, police secured statements from si...</td>\n",
       "    </tr>\n",
       "    <tr>\n",
       "      <th>74846</th>\n",
       "      <td>그러나 불충분한 증거 확보로 수사에 어려움이 있다.</td>\n",
       "      <td>But the lack of material evidence is making it...</td>\n",
       "    </tr>\n",
       "    <tr>\n",
       "      <th>74847</th>\n",
       "      <td>김회장과 그의 아들은 보복폭행 혐의를 강력히 부인하고 있다.</td>\n",
       "      <td>Kim and his son both deny the allegations.</td>\n",
       "    </tr>\n",
       "    <tr>\n",
       "      <th>74848</th>\n",
       "      <td>경찰은 김회장의 집무실에서 추가 증거를 찾은 이후 가능한 한 오늘 김회장과 아들을 ...</td>\n",
       "      <td>Police are planning to seek arrest warrants fo...</td>\n",
       "    </tr>\n",
       "  </tbody>\n",
       "</table>\n",
       "<p>74849 rows × 2 columns</p>\n",
       "</div>"
      ],
      "text/plain": [
       "                                                     kor  \\\n",
       "0                   개인용 컴퓨터 사용의 상당 부분은 \"이것보다 뛰어날 수 있느냐?\"   \n",
       "1      모든 광마우스와 마찬가지 로 이 광마우스도 책상 위에 놓는 마우스 패드를 필요로 하...   \n",
       "2                             그러나 이것은 또한 책상도 필요로 하지 않는다.   \n",
       "3      79.95달러하는 이 최첨단 무선 광마우스는 허공에서 팔목, 팔, 그외에 어떤 부분...   \n",
       "4      정보 관리들은 동남 아시아에서의 선박들에 대한 많은 (테러) 계획들이 실패로 돌아갔...   \n",
       "...                                                  ...   \n",
       "74844  “우리는 3월 8일 김승연 회장과 그의 아들이 보복폭행에 가담한 혐의를 찾기 위해 ...   \n",
       "74845   월요일 술집 종업원 6명은 김회장과 아들에게 폭행을 당했음을 진술했다고 경찰은 말했다.   \n",
       "74846                       그러나 불충분한 증거 확보로 수사에 어려움이 있다.   \n",
       "74847                  김회장과 그의 아들은 보복폭행 혐의를 강력히 부인하고 있다.   \n",
       "74848  경찰은 김회장의 집무실에서 추가 증거를 찾은 이후 가능한 한 오늘 김회장과 아들을 ...   \n",
       "\n",
       "                                                     eng  \n",
       "0      Much of personal computing is about \"can you t...  \n",
       "1      so a mention a few weeks ago about a rechargea...  \n",
       "2      Like all optical mice, But it also doesn't nee...  \n",
       "3      uses gyroscopic sensors to control the cursor ...  \n",
       "4      Intelligence officials have revealed a spate o...  \n",
       "...                                                  ...  \n",
       "74844  ””We are hoping to seize material evidence to ...  \n",
       "74845  ” On Monday, police secured statements from si...  \n",
       "74846  But the lack of material evidence is making it...  \n",
       "74847         Kim and his son both deny the allegations.  \n",
       "74848  Police are planning to seek arrest warrants fo...  \n",
       "\n",
       "[74849 rows x 2 columns]"
      ]
     },
     "execution_count": 11,
     "metadata": {},
     "output_type": "execute_result"
    }
   ],
   "source": [
    "cleaned_corpus = data\n",
    "# 인덱스 재정의\n",
    "cleaned_corpus.reset_index(drop=True, inplace=True)\n",
    "\n",
    "cleaned_corpus"
   ]
  },
  {
   "cell_type": "markdown",
   "id": "365af105",
   "metadata": {},
   "source": [
    "2. 정규화"
   ]
  },
  {
   "cell_type": "code",
   "execution_count": 12,
   "id": "7e3476bb",
   "metadata": {},
   "outputs": [],
   "source": [
    "def preprocess_sentence(sentence):\n",
    "    \n",
    "    # 소문자로 치환, 앞뒤 공백 제거\n",
    "    sentence = sentence.lower().strip()\n",
    "    # 단어와 구두점(punctuation) 사이 뷴리\n",
    "    sentence = re.sub(r\"([?.!,])\", r\" \\1 \", sentence)\n",
    "    # 다중 공백 -> 단일 공백\n",
    "    sentence = re.sub(r'[\" \"]+', \" \", sentence)\n",
    "    # 한글, 영어, 숫자, 구두점 외 제거\n",
    "    sentence = re.sub(r\"[^가-힣ㄱ-ㅎㅏ-ㅣa-zA-Z0-9.,!? ]\", \" \", sentence)\n",
    "    \n",
    "    return sentence"
   ]
  },
  {
   "cell_type": "code",
   "execution_count": 13,
   "id": "cffcb73d",
   "metadata": {},
   "outputs": [
    {
     "data": {
      "text/html": [
       "<div>\n",
       "<style scoped>\n",
       "    .dataframe tbody tr th:only-of-type {\n",
       "        vertical-align: middle;\n",
       "    }\n",
       "\n",
       "    .dataframe tbody tr th {\n",
       "        vertical-align: top;\n",
       "    }\n",
       "\n",
       "    .dataframe thead th {\n",
       "        text-align: right;\n",
       "    }\n",
       "</style>\n",
       "<table border=\"1\" class=\"dataframe\">\n",
       "  <thead>\n",
       "    <tr style=\"text-align: right;\">\n",
       "      <th></th>\n",
       "      <th>kor</th>\n",
       "      <th>eng</th>\n",
       "    </tr>\n",
       "  </thead>\n",
       "  <tbody>\n",
       "    <tr>\n",
       "      <th>0</th>\n",
       "      <td>개인용 컴퓨터 사용의 상당 부분은 이것보다 뛰어날 수 있느냐 ?</td>\n",
       "      <td>much of personal computing is about can you to...</td>\n",
       "    </tr>\n",
       "    <tr>\n",
       "      <th>1</th>\n",
       "      <td>모든 광마우스와 마찬가지 로 이 광마우스도 책상 위에 놓는 마우스 패드를 필요로 하...</td>\n",
       "      <td>so a mention a few weeks ago about a rechargea...</td>\n",
       "    </tr>\n",
       "    <tr>\n",
       "      <th>2</th>\n",
       "      <td>그러나 이것은 또한 책상도 필요로 하지 않는다 .</td>\n",
       "      <td>like all optical mice , but it also doesn t ne...</td>\n",
       "    </tr>\n",
       "    <tr>\n",
       "      <th>3</th>\n",
       "      <td>79 . 95달러하는 이 최첨단 무선 광마우스는 허공에서 팔목 , 팔 , 그외에 어...</td>\n",
       "      <td>uses gyroscopic sensors to control the cursor ...</td>\n",
       "    </tr>\n",
       "    <tr>\n",
       "      <th>4</th>\n",
       "      <td>정보 관리들은 동남 아시아에서의 선박들에 대한 많은  테러  계획들이 실패로 돌아갔...</td>\n",
       "      <td>intelligence officials have revealed a spate o...</td>\n",
       "    </tr>\n",
       "    <tr>\n",
       "      <th>...</th>\n",
       "      <td>...</td>\n",
       "      <td>...</td>\n",
       "    </tr>\n",
       "    <tr>\n",
       "      <th>74844</th>\n",
       "      <td>우리는 3월 8일 김승연 회장과 그의 아들이 보복폭행에 가담한 혐의를 찾기 위해 ...</td>\n",
       "      <td>we are hoping to seize material evidence to ...</td>\n",
       "    </tr>\n",
       "    <tr>\n",
       "      <th>74845</th>\n",
       "      <td>월요일 술집 종업원 6명은 김회장과 아들에게 폭행을 당했음을 진술했다고 경찰은 말했...</td>\n",
       "      <td>on monday , police secured statements from s...</td>\n",
       "    </tr>\n",
       "    <tr>\n",
       "      <th>74846</th>\n",
       "      <td>그러나 불충분한 증거 확보로 수사에 어려움이 있다 .</td>\n",
       "      <td>but the lack of material evidence is making it...</td>\n",
       "    </tr>\n",
       "    <tr>\n",
       "      <th>74847</th>\n",
       "      <td>김회장과 그의 아들은 보복폭행 혐의를 강력히 부인하고 있다 .</td>\n",
       "      <td>kim and his son both deny the allegations .</td>\n",
       "    </tr>\n",
       "    <tr>\n",
       "      <th>74848</th>\n",
       "      <td>경찰은 김회장의 집무실에서 추가 증거를 찾은 이후 가능한 한 오늘 김회장과 아들을 ...</td>\n",
       "      <td>police are planning to seek arrest warrants fo...</td>\n",
       "    </tr>\n",
       "  </tbody>\n",
       "</table>\n",
       "<p>74849 rows × 2 columns</p>\n",
       "</div>"
      ],
      "text/plain": [
       "                                                     kor  \\\n",
       "0                   개인용 컴퓨터 사용의 상당 부분은 이것보다 뛰어날 수 있느냐 ?    \n",
       "1      모든 광마우스와 마찬가지 로 이 광마우스도 책상 위에 놓는 마우스 패드를 필요로 하...   \n",
       "2                           그러나 이것은 또한 책상도 필요로 하지 않는다 .    \n",
       "3      79 . 95달러하는 이 최첨단 무선 광마우스는 허공에서 팔목 , 팔 , 그외에 어...   \n",
       "4      정보 관리들은 동남 아시아에서의 선박들에 대한 많은  테러  계획들이 실패로 돌아갔...   \n",
       "...                                                  ...   \n",
       "74844   우리는 3월 8일 김승연 회장과 그의 아들이 보복폭행에 가담한 혐의를 찾기 위해 ...   \n",
       "74845  월요일 술집 종업원 6명은 김회장과 아들에게 폭행을 당했음을 진술했다고 경찰은 말했...   \n",
       "74846                     그러나 불충분한 증거 확보로 수사에 어려움이 있다 .    \n",
       "74847                김회장과 그의 아들은 보복폭행 혐의를 강력히 부인하고 있다 .    \n",
       "74848  경찰은 김회장의 집무실에서 추가 증거를 찾은 이후 가능한 한 오늘 김회장과 아들을 ...   \n",
       "\n",
       "                                                     eng  \n",
       "0      much of personal computing is about can you to...  \n",
       "1      so a mention a few weeks ago about a rechargea...  \n",
       "2      like all optical mice , but it also doesn t ne...  \n",
       "3      uses gyroscopic sensors to control the cursor ...  \n",
       "4      intelligence officials have revealed a spate o...  \n",
       "...                                                  ...  \n",
       "74844    we are hoping to seize material evidence to ...  \n",
       "74845    on monday , police secured statements from s...  \n",
       "74846  but the lack of material evidence is making it...  \n",
       "74847       kim and his son both deny the allegations .   \n",
       "74848  police are planning to seek arrest warrants fo...  \n",
       "\n",
       "[74849 rows x 2 columns]"
      ]
     },
     "execution_count": 13,
     "metadata": {},
     "output_type": "execute_result"
    }
   ],
   "source": [
    "clean_kor = []\n",
    "clean_eng = []\n",
    "\n",
    "for x in cleaned_corpus['kor']:\n",
    "    clean_kor.append(preprocess_sentence(x))\n",
    "    \n",
    "for x in cleaned_corpus['eng']:\n",
    "    clean_eng.append(preprocess_sentence(x))\n",
    "\n",
    "cleaned_corpus['kor'] = clean_kor\n",
    "cleaned_corpus['eng'] = clean_eng\n",
    "\n",
    "cleaned_corpus"
   ]
  },
  {
   "cell_type": "markdown",
   "id": "ad73859e",
   "metadata": {},
   "source": [
    "3. 토큰화\n",
    "\n",
    "- 영어\n",
    "    - split() 사용\n",
    "- 한국어\n",
    "    - mecab 사용"
   ]
  },
  {
   "cell_type": "code",
   "execution_count": 14,
   "id": "84ad7092",
   "metadata": {},
   "outputs": [
    {
     "data": {
      "text/html": [
       "<div>\n",
       "<style scoped>\n",
       "    .dataframe tbody tr th:only-of-type {\n",
       "        vertical-align: middle;\n",
       "    }\n",
       "\n",
       "    .dataframe tbody tr th {\n",
       "        vertical-align: top;\n",
       "    }\n",
       "\n",
       "    .dataframe thead th {\n",
       "        text-align: right;\n",
       "    }\n",
       "</style>\n",
       "<table border=\"1\" class=\"dataframe\">\n",
       "  <thead>\n",
       "    <tr style=\"text-align: right;\">\n",
       "      <th></th>\n",
       "      <th>kor</th>\n",
       "      <th>eng</th>\n",
       "    </tr>\n",
       "  </thead>\n",
       "  <tbody>\n",
       "    <tr>\n",
       "      <th>0</th>\n",
       "      <td>[개인, 용, 컴퓨터, 사용, 의, 상당, 부분, 은, 이것, 보다, 뛰어날, 수,...</td>\n",
       "      <td>[&lt;start&gt;, much, of, personal, computing, is, a...</td>\n",
       "    </tr>\n",
       "    <tr>\n",
       "      <th>1</th>\n",
       "      <td>[모든, 광, 마우스, 와, 마찬가지, 로, 이, 광, 마우스, 도, 책상, 위, ...</td>\n",
       "      <td>[&lt;start&gt;, so, a, mention, a, few, weeks, ago, ...</td>\n",
       "    </tr>\n",
       "    <tr>\n",
       "      <th>2</th>\n",
       "      <td>[그러나, 이것, 은, 또한, 책상, 도, 필요, 로, 하, 지, 않, 는다, .]</td>\n",
       "      <td>[&lt;start&gt;, like, all, optical, mice, ,, but, it...</td>\n",
       "    </tr>\n",
       "    <tr>\n",
       "      <th>3</th>\n",
       "      <td>[79, ., 95, 달러, 하, 는, 이, 최첨단, 무선, 광, 마우스, 는, 허...</td>\n",
       "      <td>[&lt;start&gt;, uses, gyroscopic, sensors, to, contr...</td>\n",
       "    </tr>\n",
       "    <tr>\n",
       "      <th>4</th>\n",
       "      <td>[정보, 관리, 들, 은, 동남, 아시아, 에서, 의, 선박, 들, 에, 대한, 많...</td>\n",
       "      <td>[&lt;start&gt;, intelligence, officials, have, revea...</td>\n",
       "    </tr>\n",
       "    <tr>\n",
       "      <th>...</th>\n",
       "      <td>...</td>\n",
       "      <td>...</td>\n",
       "    </tr>\n",
       "    <tr>\n",
       "      <th>74844</th>\n",
       "      <td>[우리, 는, 3, 월, 8, 일, 김승연, 회장, 과, 그, 의, 아들, 이, 보...</td>\n",
       "      <td>[&lt;start&gt;, we, are, hoping, to, seize, material...</td>\n",
       "    </tr>\n",
       "    <tr>\n",
       "      <th>74845</th>\n",
       "      <td>[월요일, 술집, 종업원, 6, 명, 은, 김, 회장, 과, 아들, 에게, 폭행, ...</td>\n",
       "      <td>[&lt;start&gt;, on, monday, ,, police, secured, stat...</td>\n",
       "    </tr>\n",
       "    <tr>\n",
       "      <th>74846</th>\n",
       "      <td>[그러나, 불, 충분, 한, 증거, 확보, 로, 수사, 에, 어려움, 이, 있, 다...</td>\n",
       "      <td>[&lt;start&gt;, but, the, lack, of, material, eviden...</td>\n",
       "    </tr>\n",
       "    <tr>\n",
       "      <th>74847</th>\n",
       "      <td>[김, 회장, 과, 그, 의, 아들, 은, 보복, 폭행, 혐의, 를, 강력히, 부인...</td>\n",
       "      <td>[&lt;start&gt;, kim, and, his, son, both, deny, the,...</td>\n",
       "    </tr>\n",
       "    <tr>\n",
       "      <th>74848</th>\n",
       "      <td>[경찰, 은, 김, 회장, 의, 집무실, 에서, 추가, 증거, 를, 찾, 은, 이후...</td>\n",
       "      <td>[&lt;start&gt;, police, are, planning, to, seek, arr...</td>\n",
       "    </tr>\n",
       "  </tbody>\n",
       "</table>\n",
       "<p>74849 rows × 2 columns</p>\n",
       "</div>"
      ],
      "text/plain": [
       "                                                     kor  \\\n",
       "0      [개인, 용, 컴퓨터, 사용, 의, 상당, 부분, 은, 이것, 보다, 뛰어날, 수,...   \n",
       "1      [모든, 광, 마우스, 와, 마찬가지, 로, 이, 광, 마우스, 도, 책상, 위, ...   \n",
       "2         [그러나, 이것, 은, 또한, 책상, 도, 필요, 로, 하, 지, 않, 는다, .]   \n",
       "3      [79, ., 95, 달러, 하, 는, 이, 최첨단, 무선, 광, 마우스, 는, 허...   \n",
       "4      [정보, 관리, 들, 은, 동남, 아시아, 에서, 의, 선박, 들, 에, 대한, 많...   \n",
       "...                                                  ...   \n",
       "74844  [우리, 는, 3, 월, 8, 일, 김승연, 회장, 과, 그, 의, 아들, 이, 보...   \n",
       "74845  [월요일, 술집, 종업원, 6, 명, 은, 김, 회장, 과, 아들, 에게, 폭행, ...   \n",
       "74846  [그러나, 불, 충분, 한, 증거, 확보, 로, 수사, 에, 어려움, 이, 있, 다...   \n",
       "74847  [김, 회장, 과, 그, 의, 아들, 은, 보복, 폭행, 혐의, 를, 강력히, 부인...   \n",
       "74848  [경찰, 은, 김, 회장, 의, 집무실, 에서, 추가, 증거, 를, 찾, 은, 이후...   \n",
       "\n",
       "                                                     eng  \n",
       "0      [<start>, much, of, personal, computing, is, a...  \n",
       "1      [<start>, so, a, mention, a, few, weeks, ago, ...  \n",
       "2      [<start>, like, all, optical, mice, ,, but, it...  \n",
       "3      [<start>, uses, gyroscopic, sensors, to, contr...  \n",
       "4      [<start>, intelligence, officials, have, revea...  \n",
       "...                                                  ...  \n",
       "74844  [<start>, we, are, hoping, to, seize, material...  \n",
       "74845  [<start>, on, monday, ,, police, secured, stat...  \n",
       "74846  [<start>, but, the, lack, of, material, eviden...  \n",
       "74847  [<start>, kim, and, his, son, both, deny, the,...  \n",
       "74848  [<start>, police, are, planning, to, seek, arr...  \n",
       "\n",
       "[74849 rows x 2 columns]"
      ]
     },
     "execution_count": 14,
     "metadata": {},
     "output_type": "execute_result"
    }
   ],
   "source": [
    "token_corpus = cleaned_corpus\n",
    "\n",
    "kor_token_corpus = []\n",
    "eng_token_corpus = []\n",
    "\n",
    "for x in token_corpus['kor']:\n",
    "    kor_token_corpus.append(mecab.morphs(x))\n",
    "    \n",
    "for x in token_corpus['eng']:\n",
    "    x = '<start> ' + x\n",
    "    x += ' <end>'\n",
    "\n",
    "    eng_token_corpus.append(x.split())\n",
    "    \n",
    "token_corpus['kor'] = kor_token_corpus\n",
    "token_corpus['eng'] = eng_token_corpus\n",
    "\n",
    "token_corpus"
   ]
  },
  {
   "cell_type": "markdown",
   "id": "334c25da",
   "metadata": {},
   "source": [
    "토큰의 길이가 40 이하인 데이터를 선별"
   ]
  },
  {
   "cell_type": "code",
   "execution_count": 15,
   "id": "4d05e9fb",
   "metadata": {
    "scrolled": false
   },
   "outputs": [
    {
     "data": {
      "text/html": [
       "<div>\n",
       "<style scoped>\n",
       "    .dataframe tbody tr th:only-of-type {\n",
       "        vertical-align: middle;\n",
       "    }\n",
       "\n",
       "    .dataframe tbody tr th {\n",
       "        vertical-align: top;\n",
       "    }\n",
       "\n",
       "    .dataframe thead th {\n",
       "        text-align: right;\n",
       "    }\n",
       "</style>\n",
       "<table border=\"1\" class=\"dataframe\">\n",
       "  <thead>\n",
       "    <tr style=\"text-align: right;\">\n",
       "      <th></th>\n",
       "      <th>kor</th>\n",
       "      <th>eng</th>\n",
       "    </tr>\n",
       "  </thead>\n",
       "  <tbody>\n",
       "    <tr>\n",
       "      <th>0</th>\n",
       "      <td>[개인, 용, 컴퓨터, 사용, 의, 상당, 부분, 은, 이것, 보다, 뛰어날, 수,...</td>\n",
       "      <td>[&lt;start&gt;, much, of, personal, computing, is, a...</td>\n",
       "    </tr>\n",
       "    <tr>\n",
       "      <th>1</th>\n",
       "      <td>[모든, 광, 마우스, 와, 마찬가지, 로, 이, 광, 마우스, 도, 책상, 위, ...</td>\n",
       "      <td>[&lt;start&gt;, so, a, mention, a, few, weeks, ago, ...</td>\n",
       "    </tr>\n",
       "    <tr>\n",
       "      <th>2</th>\n",
       "      <td>[그러나, 이것, 은, 또한, 책상, 도, 필요, 로, 하, 지, 않, 는다, .]</td>\n",
       "      <td>[&lt;start&gt;, like, all, optical, mice, ,, but, it...</td>\n",
       "    </tr>\n",
       "    <tr>\n",
       "      <th>3</th>\n",
       "      <td>[결정, 적, 인, 순간, 에, 그, 들, 의, 능력, 을, 증가, 시켜, 줄, 그...</td>\n",
       "      <td>[&lt;start&gt;, something, that, will, boost, their,...</td>\n",
       "    </tr>\n",
       "    <tr>\n",
       "      <th>4</th>\n",
       "      <td>[연구가, 들, 이, 이미, 커피, 대체, 품, 으로서, 음식, 대용, 과자, 나,...</td>\n",
       "      <td>[&lt;start&gt;, researchers, are, already, exploring...</td>\n",
       "    </tr>\n",
       "    <tr>\n",
       "      <th>...</th>\n",
       "      <td>...</td>\n",
       "      <td>...</td>\n",
       "    </tr>\n",
       "    <tr>\n",
       "      <th>57455</th>\n",
       "      <td>[우리, 는, 3, 월, 8, 일, 김승연, 회장, 과, 그, 의, 아들, 이, 보...</td>\n",
       "      <td>[&lt;start&gt;, we, are, hoping, to, seize, material...</td>\n",
       "    </tr>\n",
       "    <tr>\n",
       "      <th>57456</th>\n",
       "      <td>[월요일, 술집, 종업원, 6, 명, 은, 김, 회장, 과, 아들, 에게, 폭행, ...</td>\n",
       "      <td>[&lt;start&gt;, on, monday, ,, police, secured, stat...</td>\n",
       "    </tr>\n",
       "    <tr>\n",
       "      <th>57457</th>\n",
       "      <td>[그러나, 불, 충분, 한, 증거, 확보, 로, 수사, 에, 어려움, 이, 있, 다...</td>\n",
       "      <td>[&lt;start&gt;, but, the, lack, of, material, eviden...</td>\n",
       "    </tr>\n",
       "    <tr>\n",
       "      <th>57458</th>\n",
       "      <td>[김, 회장, 과, 그, 의, 아들, 은, 보복, 폭행, 혐의, 를, 강력히, 부인...</td>\n",
       "      <td>[&lt;start&gt;, kim, and, his, son, both, deny, the,...</td>\n",
       "    </tr>\n",
       "    <tr>\n",
       "      <th>57459</th>\n",
       "      <td>[경찰, 은, 김, 회장, 의, 집무실, 에서, 추가, 증거, 를, 찾, 은, 이후...</td>\n",
       "      <td>[&lt;start&gt;, police, are, planning, to, seek, arr...</td>\n",
       "    </tr>\n",
       "  </tbody>\n",
       "</table>\n",
       "<p>57460 rows × 2 columns</p>\n",
       "</div>"
      ],
      "text/plain": [
       "                                                     kor  \\\n",
       "0      [개인, 용, 컴퓨터, 사용, 의, 상당, 부분, 은, 이것, 보다, 뛰어날, 수,...   \n",
       "1      [모든, 광, 마우스, 와, 마찬가지, 로, 이, 광, 마우스, 도, 책상, 위, ...   \n",
       "2         [그러나, 이것, 은, 또한, 책상, 도, 필요, 로, 하, 지, 않, 는다, .]   \n",
       "3      [결정, 적, 인, 순간, 에, 그, 들, 의, 능력, 을, 증가, 시켜, 줄, 그...   \n",
       "4      [연구가, 들, 이, 이미, 커피, 대체, 품, 으로서, 음식, 대용, 과자, 나,...   \n",
       "...                                                  ...   \n",
       "57455  [우리, 는, 3, 월, 8, 일, 김승연, 회장, 과, 그, 의, 아들, 이, 보...   \n",
       "57456  [월요일, 술집, 종업원, 6, 명, 은, 김, 회장, 과, 아들, 에게, 폭행, ...   \n",
       "57457  [그러나, 불, 충분, 한, 증거, 확보, 로, 수사, 에, 어려움, 이, 있, 다...   \n",
       "57458  [김, 회장, 과, 그, 의, 아들, 은, 보복, 폭행, 혐의, 를, 강력히, 부인...   \n",
       "57459  [경찰, 은, 김, 회장, 의, 집무실, 에서, 추가, 증거, 를, 찾, 은, 이후...   \n",
       "\n",
       "                                                     eng  \n",
       "0      [<start>, much, of, personal, computing, is, a...  \n",
       "1      [<start>, so, a, mention, a, few, weeks, ago, ...  \n",
       "2      [<start>, like, all, optical, mice, ,, but, it...  \n",
       "3      [<start>, something, that, will, boost, their,...  \n",
       "4      [<start>, researchers, are, already, exploring...  \n",
       "...                                                  ...  \n",
       "57455  [<start>, we, are, hoping, to, seize, material...  \n",
       "57456  [<start>, on, monday, ,, police, secured, stat...  \n",
       "57457  [<start>, but, the, lack, of, material, eviden...  \n",
       "57458  [<start>, kim, and, his, son, both, deny, the,...  \n",
       "57459  [<start>, police, are, planning, to, seek, arr...  \n",
       "\n",
       "[57460 rows x 2 columns]"
      ]
     },
     "execution_count": 15,
     "metadata": {},
     "output_type": "execute_result"
    }
   ],
   "source": [
    "max_len=40\n",
    "\n",
    "token_corpus = token_corpus[token_corpus[\"kor\"].apply(lambda x: len(x) <= max_len) &\n",
    "              token_corpus[\"eng\"].apply(lambda x: len(x) <= max_len)]\n",
    "# 인덱스 재정의\n",
    "token_corpus.reset_index(drop=True, inplace=True)\n",
    "\n",
    "token_corpus"
   ]
  },
  {
   "cell_type": "code",
   "execution_count": 16,
   "id": "51f4f924",
   "metadata": {},
   "outputs": [],
   "source": [
    "kor_corpus = []\n",
    "eng_corpus = []\n",
    "\n",
    "for x in token_corpus['kor']:  \n",
    "    kor_corpus.append(x)\n",
    "    \n",
    "for x in token_corpus['eng']:\n",
    "    eng_corpus.append(x)"
   ]
  },
  {
   "cell_type": "markdown",
   "id": "5d263cd6",
   "metadata": {},
   "source": [
    "# Step 3. 데이터 토큰화"
   ]
  },
  {
   "cell_type": "code",
   "execution_count": 17,
   "id": "fc5bc5b8",
   "metadata": {},
   "outputs": [],
   "source": [
    "def tokenize(corpus):\n",
    "    tokenizer = tf.keras.preprocessing.text.Tokenizer(filters='')\n",
    "    tokenizer.fit_on_texts(corpus)\n",
    "\n",
    "    tensor = tokenizer.texts_to_sequences(corpus)\n",
    "\n",
    "    tensor = tf.keras.preprocessing.sequence.pad_sequences(tensor, padding='post')\n",
    "\n",
    "    return tensor, tokenizer"
   ]
  },
  {
   "cell_type": "code",
   "execution_count": 18,
   "id": "c15ec677",
   "metadata": {
    "scrolled": false
   },
   "outputs": [
    {
     "name": "stdout",
     "output_type": "stream",
     "text": [
      "Kor Vocab Size: 43266\n",
      "Eng Vocab Size: 39097\n"
     ]
    }
   ],
   "source": [
    "enc, enc_tokenizer = tokenize(kor_corpus)\n",
    "dec, dec_tokenizer = tokenize(eng_corpus)\n",
    "\n",
    "print(\"Kor Vocab Size:\", len(enc_tokenizer.index_word))\n",
    "print(\"Eng Vocab Size:\", len(dec_tokenizer.index_word))"
   ]
  },
  {
   "cell_type": "markdown",
   "id": "730ae015",
   "metadata": {},
   "source": [
    "# Step 4. 모델 설계"
   ]
  },
  {
   "cell_type": "code",
   "execution_count": 19,
   "id": "26d720f4",
   "metadata": {},
   "outputs": [],
   "source": [
    "class BahdanauAttention(tf.keras.layers.Layer):\n",
    "    def __init__(self, units):\n",
    "        super(BahdanauAttention, self).__init__()\n",
    "        self.w_dec = tf.keras.layers.Dense(units)\n",
    "        self.w_enc = tf.keras.layers.Dense(units)\n",
    "        self.w_com = tf.keras.layers.Dense(1)\n",
    "    \n",
    "    def call(self, h_enc, h_dec):\n",
    "        # h_enc shape: [batch x length x units]\n",
    "        # h_dec shape: [batch x units]\n",
    "\n",
    "        h_enc = self.w_enc(h_enc)\n",
    "        h_dec = tf.expand_dims(h_dec, 1)\n",
    "        h_dec = self.w_dec(h_dec)\n",
    "\n",
    "        score = self.w_com(tf.nn.tanh(h_dec + h_enc))\n",
    "        \n",
    "        attn = tf.nn.softmax(score, axis=1)\n",
    "\n",
    "        context_vec = attn * h_enc\n",
    "        context_vec = tf.reduce_sum(context_vec, axis=1)\n",
    "\n",
    "        return context_vec, attn"
   ]
  },
  {
   "cell_type": "code",
   "execution_count": 20,
   "id": "5e606e13",
   "metadata": {},
   "outputs": [],
   "source": [
    "class Encoder(tf.keras.Model):\n",
    "    def __init__(self, vocab_size, embedding_dim, enc_units):\n",
    "        super(Encoder, self).__init__()\n",
    "        \n",
    "        self.enc_units = enc_units\n",
    "        self.embedding = tf.keras.layers.Embedding(vocab_size, embedding_dim)\n",
    "        self.gru = tf.keras.layers.GRU(enc_units,\n",
    "                                       return_sequences=True)\n",
    "        \n",
    "    def call(self, x):\n",
    "        out = self.embedding(x)\n",
    "        out = self.gru(out)\n",
    "        \n",
    "        return out"
   ]
  },
  {
   "cell_type": "code",
   "execution_count": 21,
   "id": "1522130a",
   "metadata": {},
   "outputs": [],
   "source": [
    "class Decoder(tf.keras.Model):\n",
    "    def __init__(self, vocab_size, embedding_dim, dec_units):\n",
    "        super(Decoder, self).__init__()\n",
    "        self.dec_units = dec_units\n",
    "        self.embedding = tf.keras.layers.Embedding(vocab_size, embedding_dim)\n",
    "        self.gru = tf.keras.layers.GRU(dec_units,\n",
    "                                       return_sequences=True,\n",
    "                                       return_state=True)\n",
    "        self.fc = tf.keras.layers.Dense(vocab_size)\n",
    "\n",
    "        self.attention = BahdanauAttention(self.dec_units)\n",
    "\n",
    "    def call(self, x, h_dec, enc_out):\n",
    "        context_vec, attn = self.attention(enc_out, h_dec)\n",
    "\n",
    "        out = self.embedding(x)\n",
    "        out = tf.concat([tf.expand_dims(context_vec, 1), out], axis=-1)\n",
    "        \n",
    "        out, h_dec = self.gru(out)\n",
    "        out = tf.reshape(out, (-1, out.shape[2]))\n",
    "        out = self.fc(out)\n",
    "\n",
    "        return out, h_dec, attn"
   ]
  },
  {
   "cell_type": "code",
   "execution_count": 22,
   "id": "d4f4252a",
   "metadata": {},
   "outputs": [],
   "source": [
    "SRC_VOCAB_SIZE = len(enc_tokenizer.index_word) + 1\n",
    "TGT_VOCAB_SIZE = len(dec_tokenizer.index_word) + 1\n",
    "\n",
    "units         = 1024\n",
    "embedding_dim = 512\n",
    "\n",
    "encoder = Encoder(SRC_VOCAB_SIZE, embedding_dim, units)\n",
    "decoder = Decoder(TGT_VOCAB_SIZE, embedding_dim, units)"
   ]
  },
  {
   "cell_type": "markdown",
   "id": "ac4dfd4d",
   "metadata": {},
   "source": [
    "# Step 5. 훈련하기"
   ]
  },
  {
   "cell_type": "code",
   "execution_count": 23,
   "id": "9b3c08ca",
   "metadata": {},
   "outputs": [],
   "source": [
    "optimizer = tf.keras.optimizers.Adam()\n",
    "loss_object = tf.keras.losses.SparseCategoricalCrossentropy(\n",
    "    from_logits=True, reduction='none')\n",
    "\n",
    "def loss_function(real, pred):\n",
    "    mask = tf.math.logical_not(tf.math.equal(real, 0))\n",
    "    loss = loss_object(real, pred)\n",
    "    \n",
    "    mask = tf.cast(mask, dtype=loss.dtype)\n",
    "    loss *= mask\n",
    "    \n",
    "    return tf.reduce_mean(loss)"
   ]
  },
  {
   "cell_type": "code",
   "execution_count": 24,
   "id": "c3f365a0",
   "metadata": {},
   "outputs": [],
   "source": [
    "@tf.function\n",
    "def train_step(src, tgt, encoder, decoder, optimizer, dec_tok):\n",
    "    bsz = src.shape[0]\n",
    "    loss = 0\n",
    "\n",
    "    with tf.GradientTape() as tape:\n",
    "        enc_out = encoder(src)\n",
    "        h_dec = enc_out[:, -1]\n",
    "        \n",
    "        dec_src = tf.expand_dims([dec_tok.word_index['<start>']] * bsz, 1)\n",
    "\n",
    "        for t in range(1, tgt.shape[1]):\n",
    "            pred, h_dec, _ = decoder(dec_src, h_dec, enc_out)\n",
    "\n",
    "            loss += loss_function(tgt[:, t], pred)\n",
    "            dec_src = tf.expand_dims(tgt[:, t], 1)\n",
    "        \n",
    "    batch_loss = (loss / int(tgt.shape[1]))\n",
    "\n",
    "    variables = encoder.trainable_variables + decoder.trainable_variables\n",
    "    gradients = tape.gradient(loss, variables)\n",
    "    optimizer.apply_gradients(zip(gradients, variables))\n",
    "    \n",
    "    return batch_loss"
   ]
  },
  {
   "cell_type": "code",
   "execution_count": 54,
   "id": "997b2249",
   "metadata": {},
   "outputs": [],
   "source": [
    "def evaluate(sentence_list, encoder, decoder):\n",
    "    results = []\n",
    "    attentions = []\n",
    "    sentences = []\n",
    "    \n",
    "    for sentence in sentence_list:\n",
    "        attention = np.zeros((dec.shape[-1], enc.shape[-1]))\n",
    "\n",
    "        sentence = preprocess_sentence(sentence)\n",
    "        sentence = mecab.morphs(sentence)\n",
    "        inputs = enc_tokenizer.texts_to_sequences([sentence])\n",
    "        inputs = tf.keras.preprocessing.sequence.pad_sequences(inputs,\n",
    "                                                               maxlen=enc.shape[-1],\n",
    "                                                               padding='post')\n",
    "\n",
    "        result = ''\n",
    "\n",
    "        enc_out = encoder(inputs)\n",
    "\n",
    "        dec_hidden = enc_out[:, -1]\n",
    "        dec_input = tf.expand_dims([dec_tokenizer.word_index['<start>']], 0)\n",
    "\n",
    "        for t in range(dec.shape[-1]):\n",
    "            predictions, dec_hidden, attention_weights = decoder(dec_input,\n",
    "                                                                 dec_hidden,\n",
    "                                                                 enc_out)\n",
    "\n",
    "            attention_weights = tf.reshape(attention_weights, (-1, ))\n",
    "            attention[t] = attention_weights.numpy()\n",
    "\n",
    "            predicted_id = tf.argmax(tf.math.softmax(predictions, axis=-1)[0]).numpy()\n",
    "\n",
    "            result += dec_tokenizer.index_word[predicted_id] + ' '\n",
    "\n",
    "            if dec_tokenizer.index_word[predicted_id] == '<end>':\n",
    "                break\n",
    "\n",
    "            dec_input = tf.expand_dims([predicted_id], 0)\n",
    "\n",
    "        sentences.append(sentence)\n",
    "        results.append(result.strip())\n",
    "        attentions.append(attention)\n",
    "\n",
    "    return results, sentences, attentions"
   ]
  },
  {
   "cell_type": "code",
   "execution_count": 26,
   "id": "9b939024",
   "metadata": {
    "scrolled": true
   },
   "outputs": [
    {
     "name": "stderr",
     "output_type": "stream",
     "text": [
      "Epoch  1: 100%|██████████| 898/898 [10:45<00:00,  1.39it/s, Loss 4.0495] \n"
     ]
    },
    {
     "name": "stdout",
     "output_type": "stream",
     "text": [
      "E1) 오바마는 대통령이다.\n",
      "E1) the the the the the the the the the the the the the the the the the the the the the the the the the the the the the the the the the the the the the the the the\n",
      "E2) 시민들은 도시 속에 산다.\n",
      "E2) the be the be the be the be the be the be the be the be the be the be the be the be the be the be the be the be the be the be the be the be\n",
      "E3) 커피는 필요 없다.\n",
      "E3) the be the be the be the be the be the be the be the be the be the be the be the be the be the be the be the be the be the be the be the be\n",
      "E4) 일곱 명의 사망자가 발생했다.\n",
      "E4) the be the be the be the be the be the be the be the be the be the be the be the be the be the be the be the be the be the be the be the be\n"
     ]
    },
    {
     "name": "stderr",
     "output_type": "stream",
     "text": [
      "Epoch  2: 100%|██████████| 898/898 [09:41<00:00,  1.54it/s, Loss 3.6401]\n"
     ]
    },
    {
     "name": "stdout",
     "output_type": "stream",
     "text": [
      "E1) 오바마는 대통령이다.\n",
      "E1) the . <end>\n",
      "E2) 시민들은 도시 속에 산다.\n",
      "E2) the . <end>\n",
      "E3) 커피는 필요 없다.\n",
      "E3) the . <end>\n",
      "E4) 일곱 명의 사망자가 발생했다.\n",
      "E4) the . <end>\n"
     ]
    },
    {
     "name": "stderr",
     "output_type": "stream",
     "text": [
      "Epoch  3: 100%|██████████| 898/898 [09:21<00:00,  1.60it/s, Loss 3.5026]\n"
     ]
    },
    {
     "name": "stdout",
     "output_type": "stream",
     "text": [
      "E1) 오바마는 대통령이다.\n",
      "E1) the first year . <end>\n",
      "E2) 시민들은 도시 속에 산다.\n",
      "E2) the government s . <end>\n",
      "E3) 커피는 필요 없다.\n",
      "E3) the government s . <end>\n",
      "E4) 일곱 명의 사망자가 발생했다.\n",
      "E4) the first year . <end>\n"
     ]
    },
    {
     "name": "stderr",
     "output_type": "stream",
     "text": [
      "Epoch  4: 100%|██████████| 898/898 [09:24<00:00,  1.59it/s, Loss 3.3793]\n"
     ]
    },
    {
     "name": "stdout",
     "output_type": "stream",
     "text": [
      "E1) 오바마는 대통령이다.\n",
      "E1) the few . <end>\n",
      "E2) 시민들은 도시 속에 산다.\n",
      "E2) the government s . <end>\n",
      "E3) 커피는 필요 없다.\n",
      "E3) the the the the the the the the the the the the the the the the the the the the the the the the the the the the the the the the the the the the the the the the\n",
      "E4) 일곱 명의 사망자가 발생했다.\n",
      "E4) the world s . <end>\n"
     ]
    },
    {
     "name": "stderr",
     "output_type": "stream",
     "text": [
      "Epoch  5: 100%|██████████| 898/898 [09:25<00:00,  1.59it/s, Loss 3.3024]\n"
     ]
    },
    {
     "name": "stdout",
     "output_type": "stream",
     "text": [
      "E1) 오바마는 대통령이다.\n",
      "E1) the first year . <end>\n",
      "E2) 시민들은 도시 속에 산다.\n",
      "E2) the first time . <end>\n",
      "E3) 커피는 필요 없다.\n",
      "E3) the first time to the first time to the first time to the first time to the first time to the first time to the first time to the first time to the first time to the first time to\n",
      "E4) 일곱 명의 사망자가 발생했다.\n",
      "E4) the first time to the first time to the first time to the first time to the first time to the first time to the first time to the first time to the first time to the first time to\n"
     ]
    },
    {
     "name": "stderr",
     "output_type": "stream",
     "text": [
      "Epoch  6: 100%|██████████| 898/898 [09:26<00:00,  1.58it/s, Loss 3.2355]\n"
     ]
    },
    {
     "name": "stdout",
     "output_type": "stream",
     "text": [
      "E1) 오바마는 대통령이다.\n",
      "E1) the first time . <end>\n",
      "E2) 시민들은 도시 속에 산다.\n",
      "E2) the first time . <end>\n",
      "E3) 커피는 필요 없다.\n",
      "E3) the first time . <end>\n",
      "E4) 일곱 명의 사망자가 발생했다.\n",
      "E4) the first time in the first time in the first time in the first time in the first time in the first time in the first time in the first time in the first time in the first time in\n"
     ]
    },
    {
     "name": "stderr",
     "output_type": "stream",
     "text": [
      "Epoch  7: 100%|██████████| 898/898 [09:28<00:00,  1.58it/s, Loss 3.1578]\n"
     ]
    },
    {
     "name": "stdout",
     "output_type": "stream",
     "text": [
      "E1) 오바마는 대통령이다.\n",
      "E1) the latest . <end>\n",
      "E2) 시민들은 도시 속에 산다.\n",
      "E2) the first time in the first time in the first time in the first time in the first time in the first time in the first time in the first time in the first time in the first time in\n",
      "E3) 커피는 필요 없다.\n",
      "E3) the first time to be a new york , and the first time to be a new york , and the first time to be a new york , and the first time to be a new york , and\n",
      "E4) 일곱 명의 사망자가 발생했다.\n",
      "E4) the first time , the first time , the first time , the first time , the first time , the first time , the first time , the first time , the first time , the first time ,\n"
     ]
    },
    {
     "name": "stderr",
     "output_type": "stream",
     "text": [
      "Epoch  8: 100%|██████████| 898/898 [09:29<00:00,  1.58it/s, Loss 3.0755]\n"
     ]
    },
    {
     "name": "stdout",
     "output_type": "stream",
     "text": [
      "E1) 오바마는 대통령이다.\n",
      "E1) the white house of the white house of the white house of the white house of the white house of the white house of the white house of the white house of the white house of the white house of\n",
      "E2) 시민들은 도시 속에 산다.\n",
      "E2) the white house , the white house of the white house , the white house of the white house , the white house of the white house , the white house of the white house , the white house of\n",
      "E3) 커피는 필요 없다.\n",
      "E3) the ap s first time . <end>\n",
      "E4) 일곱 명의 사망자가 발생했다.\n",
      "E4) the u . s . <end>\n"
     ]
    },
    {
     "name": "stderr",
     "output_type": "stream",
     "text": [
      "Epoch  9: 100%|██████████| 898/898 [09:30<00:00,  1.57it/s, Loss 3.0068]\n"
     ]
    },
    {
     "name": "stdout",
     "output_type": "stream",
     "text": [
      "E1) 오바마는 대통령이다.\n",
      "E1) the dow jones , the dow jones , the dow jones , the dow jones , the dow jones , the dow jones , the dow jones , the dow jones , the dow jones , the dow jones ,\n",
      "E2) 시민들은 도시 속에 산다.\n",
      "E2) the first time . <end>\n",
      "E3) 커피는 필요 없다.\n",
      "E3) the economy . <end>\n",
      "E4) 일곱 명의 사망자가 발생했다.\n",
      "E4) the u . s . <end>\n"
     ]
    },
    {
     "name": "stderr",
     "output_type": "stream",
     "text": [
      "Epoch 10: 100%|██████████| 898/898 [09:31<00:00,  1.57it/s, Loss 2.9356]\n"
     ]
    },
    {
     "name": "stdout",
     "output_type": "stream",
     "text": [
      "E1) 오바마는 대통령이다.\n",
      "E1) the white house , and the white house , and the white house , and the white house , and the white house , and the white house , and the white house , and the white house , and\n",
      "E2) 시민들은 도시 속에 산다.\n",
      "E2) the ap s . <end>\n",
      "E3) 커피는 필요 없다.\n",
      "E3) the dow industrials down . <end>\n",
      "E4) 일곱 명의 사망자가 발생했다.\n",
      "E4) the iraqi government , the iraqi government , the iraqi government , the iraqi government , the iraqi government , the iraqi government , the iraqi government , the iraqi government , the iraqi government , the iraqi government ,\n"
     ]
    }
   ],
   "source": [
    "EPOCHS = 10\n",
    "BATCH_SIZE = 64\n",
    "\n",
    "for epoch in range(EPOCHS):\n",
    "    total_loss = 0\n",
    "    \n",
    "    idx_list = list(range(0, enc.shape[0], BATCH_SIZE))\n",
    "    random.shuffle(idx_list)\n",
    "    t = tqdm(idx_list)    # tqdm\n",
    "\n",
    "    for (batch, idx) in enumerate(t):\n",
    "        batch_loss = train_step(enc[idx:idx+BATCH_SIZE],\n",
    "                                dec[idx:idx+BATCH_SIZE],\n",
    "                                encoder,\n",
    "                                decoder,\n",
    "                                optimizer,\n",
    "                                dec_tokenizer)\n",
    "    \n",
    "        total_loss += batch_loss\n",
    "        \n",
    "        t.set_description_str('Epoch %2d' % (epoch + 1))    # tqdm\n",
    "        t.set_postfix_str('Loss %.4f' % (total_loss.numpy() / (batch + 1))) \n",
    "    \n",
    "    test_sentence = [\n",
    "        '오바마는 대통령이다.',\n",
    "        '시민들은 도시 속에 산다.',\n",
    "        '커피는 필요 없다.',\n",
    "        '일곱 명의 사망자가 발생했다.'\n",
    "    ]\n",
    "    \n",
    "    results, sentences, attentions = evaluate(test_sentence, encoder, decoder)\n",
    "\n",
    "    for x in range(len(test_sentence)):\n",
    "        print(f'E{x+1})', test_sentence[x])\n",
    "        print(f'E{x+1})', results[x])"
   ]
  },
  {
   "cell_type": "markdown",
   "id": "f22fe231",
   "metadata": {},
   "source": [
    "시각화"
   ]
  },
  {
   "cell_type": "code",
   "execution_count": 57,
   "id": "d922cd12",
   "metadata": {},
   "outputs": [],
   "source": [
    "def plot_attention(attention, sentence, predicted_sentence):\n",
    "    fig = plt.figure(figsize=(10,10))\n",
    "    ax = fig.add_subplot(1, 1, 1)\n",
    "    ax.matshow(attention, cmap='viridis')\n",
    "\n",
    "    fontdict = {'fontsize': 14}\n",
    "\n",
    "    ax.set_xticklabels([''] + sentence, fontdict=fontdict, rotation=90)\n",
    "    ax.set_yticklabels([''] + predicted_sentence, fontdict=fontdict)\n",
    "\n",
    "    ax.xaxis.set_major_locator(ticker.MultipleLocator(1))\n",
    "    ax.yaxis.set_major_locator(ticker.MultipleLocator(1))\n",
    "\n",
    "    plt.show()\n",
    "\n",
    "\n",
    "def translate(sentence, encoder, decoder):\n",
    "    results, sentences, attentions = evaluate(sentence, encoder, decoder)\n",
    "\n",
    "    for x in range(len(results)):      \n",
    "        print('Input: %s' % (sentences[x]))\n",
    "        print('Predicted translation: {}'.format(results[x]))\n",
    "\n",
    "        attention = attentions[x][:len(results[x].split()), :len(sentences[x])]\n",
    "        plot_attention(attention, sentences[x], results[x].split(' '))"
   ]
  },
  {
   "cell_type": "code",
   "execution_count": 58,
   "id": "50a6ef11",
   "metadata": {},
   "outputs": [
    {
     "name": "stdout",
     "output_type": "stream",
     "text": [
      "Input: ['오바마', '는', '대통령', '이', '다', '.']\n",
      "Predicted translation: the white house , and the white house , and the white house , and the white house , and the white house , and the white house , and the white house , and the white house , and\n"
     ]
    },
    {
     "name": "stderr",
     "output_type": "stream",
     "text": [
      "/tmp/ipykernel_154/4110921301.py:8: UserWarning: FixedFormatter should only be used together with FixedLocator\n",
      "  ax.set_xticklabels([''] + sentence, fontdict=fontdict, rotation=90)\n",
      "/tmp/ipykernel_154/4110921301.py:9: UserWarning: FixedFormatter should only be used together with FixedLocator\n",
      "  ax.set_yticklabels([''] + predicted_sentence, fontdict=fontdict)\n"
     ]
    },
    {
     "data": {
      "image/png": "[encoded data removed]",
      "text/plain": [
       "<Figure size 720x720 with 1 Axes>"
      ]
     },
     "metadata": {
      "image/png": {
       "height": 606,
       "width": 142
      },
      "needs_background": "light"
     },
     "output_type": "display_data"
    },
    {
     "name": "stdout",
     "output_type": "stream",
     "text": [
      "Input: ['시민', '들', '은', '도시', '속', '에', '산다', '.']\n",
      "Predicted translation: the ap s . <end>\n"
     ]
    },
    {
     "data": {
      "image/png": "[encoded data removed]",
      "text/plain": [
       "<Figure size 720x720 with 1 Axes>"
      ]
     },
     "metadata": {
      "image/png": {
       "height": 398,
       "width": 616
      },
      "needs_background": "light"
     },
     "output_type": "display_data"
    },
    {
     "name": "stdout",
     "output_type": "stream",
     "text": [
      "Input: ['커피', '는', '필요', '없', '다', '.']\n",
      "Predicted translation: the dow industrials down . <end>\n"
     ]
    },
    {
     "data": {
      "image/png": "[encoded data removed]",
      "text/plain": [
       "<Figure size 720x720 with 1 Axes>"
      ]
     },
     "metadata": {
      "image/png": {
       "height": 593,
       "width": 631
      },
      "needs_background": "light"
     },
     "output_type": "display_data"
    },
    {
     "name": "stdout",
     "output_type": "stream",
     "text": [
      "Input: ['일곱', '명', '의', '사망자', '가', '발생', '했', '다', '.']\n",
      "Predicted translation: the iraqi government , the iraqi government , the iraqi government , the iraqi government , the iraqi government , the iraqi government , the iraqi government , the iraqi government , the iraqi government , the iraqi government ,\n"
     ]
    },
    {
     "data": {
      "image/png": "[encoded data removed]",
      "text/plain": [
       "<Figure size 720x720 with 1 Axes>"
      ]
     },
     "metadata": {
      "image/png": {
       "height": 606,
       "width": 222
      },
      "needs_background": "light"
     },
     "output_type": "display_data"
    }
   ],
   "source": [
    "%config InlineBackend.figure_format = 'retina'\n",
    " \n",
    "fontpath = '/usr/share/fonts/truetype/nanum/NanumBarunGothic.ttf'\n",
    "font = fm.FontProperties(fname=fontpath, size=9)\n",
    "plt.rc('font', family='NanumBarunGothic') \n",
    "mpl.font_manager.findfont(font)\n",
    "\n",
    "test_sentence = [\n",
    "        '오바마는 대통령이다.',\n",
    "        '시민들은 도시 속에 산다.',\n",
    "        '커피는 필요 없다.',\n",
    "        '일곱 명의 사망자가 발생했다.'\n",
    "    ]\n",
    "\n",
    "translate(test_sentence, encoder, decoder)"
   ]
  },
  {
   "cell_type": "markdown",
   "id": "ebd19c93",
   "metadata": {},
   "source": [
    "# 회고"
   ]
  },
  {
   "cell_type": "markdown",
   "id": "ae0b3d28",
   "metadata": {},
   "source": [
    "- BahdanauAttention을 사용한 Seq2seq를 만들어 한 - 영 번역기를 만들어 보면서 Attention의 개념을 조금 더 이해 하게 된거 같다.\n",
    "- 이번 Seq2seq 모델 결과를 보다보니 왜 대세가 트랜스포머인지 명확하게 알 수 있었음!\n",
    "- 여기서 성능(train loss 감소)을 끌어올리려면 적어도 30 ~ 40 epoch 정도의 훈련이 추가로 필요해 보임!!"
   ]
  }
 ],
 "metadata": {
  "kernelspec": {
   "display_name": "Python 3 (ipykernel)",
   "language": "python",
   "name": "python3"
  },
  "language_info": {
   "codemirror_mode": {
    "name": "ipython",
    "version": 3
   },
   "file_extension": ".py",
   "mimetype": "text/x-python",
   "name": "python",
   "nbconvert_exporter": "python",
   "pygments_lexer": "ipython3",
   "version": "3.9.7"
  }
 },
 "nbformat": 4,
 "nbformat_minor": 5
}
